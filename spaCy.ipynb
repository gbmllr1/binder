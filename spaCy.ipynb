{
 "cells": [
  {
   "cell_type": "code",
   "execution_count": 3,
   "id": "955a1ce6-beb1-4ea6-bebb-af9ace1fb8e6",
   "metadata": {},
   "outputs": [],
   "source": [
    "import PyPDF2\n",
    "import spacy\n",
    "import logging, sys\n",
    "logging.basicConfig(filename='reiseberichte.log', encoding='utf-8', level=logging.DEBUG)"
   ]
  },
  {
   "cell_type": "code",
   "execution_count": 3,
   "id": "04249c59-6340-464e-af9a-ef4a0ff4eca6",
   "metadata": {
    "tags": []
   },
   "outputs": [
    {
     "name": "stdout",
     "output_type": "stream",
     "text": [
      "Collecting en-core-web-sm==3.7.0\n",
      "  Downloading https://github.com/explosion/spacy-models/releases/download/en_core_web_sm-3.7.0/en_core_web_sm-3.7.0-py3-none-any.whl (12.8 MB)\n",
      "\u001b[2K     \u001b[90m━━━━━━━━━━━━━━━━━━━━━━━━━━━━━━━━━━━━━━━━\u001b[0m \u001b[32m12.8/12.8 MB\u001b[0m \u001b[31m34.6 MB/s\u001b[0m eta \u001b[36m0:00:00\u001b[0m00:01\u001b[0m00:01\u001b[0m\n",
      "\u001b[?25hRequirement already satisfied: spacy<3.8.0,>=3.7.0 in /srv/conda/envs/notebook/lib/python3.11/site-packages (from en-core-web-sm==3.7.0) (3.7.2)\n",
      "Requirement already satisfied: spacy-legacy<3.1.0,>=3.0.11 in /srv/conda/envs/notebook/lib/python3.11/site-packages (from spacy<3.8.0,>=3.7.0->en-core-web-sm==3.7.0) (3.0.12)\n",
      "Requirement already satisfied: spacy-loggers<2.0.0,>=1.0.0 in /srv/conda/envs/notebook/lib/python3.11/site-packages (from spacy<3.8.0,>=3.7.0->en-core-web-sm==3.7.0) (1.0.5)\n",
      "Requirement already satisfied: murmurhash<1.1.0,>=0.28.0 in /srv/conda/envs/notebook/lib/python3.11/site-packages (from spacy<3.8.0,>=3.7.0->en-core-web-sm==3.7.0) (1.0.10)\n",
      "Requirement already satisfied: cymem<2.1.0,>=2.0.2 in /srv/conda/envs/notebook/lib/python3.11/site-packages (from spacy<3.8.0,>=3.7.0->en-core-web-sm==3.7.0) (2.0.8)\n",
      "Requirement already satisfied: preshed<3.1.0,>=3.0.2 in /srv/conda/envs/notebook/lib/python3.11/site-packages (from spacy<3.8.0,>=3.7.0->en-core-web-sm==3.7.0) (3.0.9)\n",
      "Requirement already satisfied: thinc<8.3.0,>=8.1.8 in /srv/conda/envs/notebook/lib/python3.11/site-packages (from spacy<3.8.0,>=3.7.0->en-core-web-sm==3.7.0) (8.2.1)\n",
      "Requirement already satisfied: wasabi<1.2.0,>=0.9.1 in /srv/conda/envs/notebook/lib/python3.11/site-packages (from spacy<3.8.0,>=3.7.0->en-core-web-sm==3.7.0) (1.1.2)\n",
      "Requirement already satisfied: srsly<3.0.0,>=2.4.3 in /srv/conda/envs/notebook/lib/python3.11/site-packages (from spacy<3.8.0,>=3.7.0->en-core-web-sm==3.7.0) (2.4.8)\n",
      "Requirement already satisfied: catalogue<2.1.0,>=2.0.6 in /srv/conda/envs/notebook/lib/python3.11/site-packages (from spacy<3.8.0,>=3.7.0->en-core-web-sm==3.7.0) (2.0.10)\n",
      "Requirement already satisfied: weasel<0.4.0,>=0.1.0 in /srv/conda/envs/notebook/lib/python3.11/site-packages (from spacy<3.8.0,>=3.7.0->en-core-web-sm==3.7.0) (0.3.4)\n",
      "Requirement already satisfied: typer<0.10.0,>=0.3.0 in /srv/conda/envs/notebook/lib/python3.11/site-packages (from spacy<3.8.0,>=3.7.0->en-core-web-sm==3.7.0) (0.9.0)\n",
      "Requirement already satisfied: smart-open<7.0.0,>=5.2.1 in /srv/conda/envs/notebook/lib/python3.11/site-packages (from spacy<3.8.0,>=3.7.0->en-core-web-sm==3.7.0) (6.4.0)\n",
      "Requirement already satisfied: tqdm<5.0.0,>=4.38.0 in /srv/conda/envs/notebook/lib/python3.11/site-packages (from spacy<3.8.0,>=3.7.0->en-core-web-sm==3.7.0) (4.66.1)\n",
      "Requirement already satisfied: requests<3.0.0,>=2.13.0 in /srv/conda/envs/notebook/lib/python3.11/site-packages (from spacy<3.8.0,>=3.7.0->en-core-web-sm==3.7.0) (2.31.0)\n",
      "Requirement already satisfied: pydantic!=1.8,!=1.8.1,<3.0.0,>=1.7.4 in /srv/conda/envs/notebook/lib/python3.11/site-packages (from spacy<3.8.0,>=3.7.0->en-core-web-sm==3.7.0) (2.4.2)\n",
      "Requirement already satisfied: jinja2 in /srv/conda/envs/notebook/lib/python3.11/site-packages (from spacy<3.8.0,>=3.7.0->en-core-web-sm==3.7.0) (3.1.2)\n",
      "Requirement already satisfied: setuptools in /srv/conda/envs/notebook/lib/python3.11/site-packages (from spacy<3.8.0,>=3.7.0->en-core-web-sm==3.7.0) (68.2.2)\n",
      "Requirement already satisfied: packaging>=20.0 in /srv/conda/envs/notebook/lib/python3.11/site-packages (from spacy<3.8.0,>=3.7.0->en-core-web-sm==3.7.0) (23.2)\n",
      "Requirement already satisfied: langcodes<4.0.0,>=3.2.0 in /srv/conda/envs/notebook/lib/python3.11/site-packages (from spacy<3.8.0,>=3.7.0->en-core-web-sm==3.7.0) (3.3.0)\n",
      "Requirement already satisfied: numpy>=1.19.0 in /srv/conda/envs/notebook/lib/python3.11/site-packages (from spacy<3.8.0,>=3.7.0->en-core-web-sm==3.7.0) (1.26.0)\n",
      "Requirement already satisfied: annotated-types>=0.4.0 in /srv/conda/envs/notebook/lib/python3.11/site-packages (from pydantic!=1.8,!=1.8.1,<3.0.0,>=1.7.4->spacy<3.8.0,>=3.7.0->en-core-web-sm==3.7.0) (0.6.0)\n",
      "Requirement already satisfied: pydantic-core==2.10.1 in /srv/conda/envs/notebook/lib/python3.11/site-packages (from pydantic!=1.8,!=1.8.1,<3.0.0,>=1.7.4->spacy<3.8.0,>=3.7.0->en-core-web-sm==3.7.0) (2.10.1)\n",
      "Requirement already satisfied: typing-extensions>=4.6.1 in /srv/conda/envs/notebook/lib/python3.11/site-packages (from pydantic!=1.8,!=1.8.1,<3.0.0,>=1.7.4->spacy<3.8.0,>=3.7.0->en-core-web-sm==3.7.0) (4.8.0)\n",
      "Requirement already satisfied: charset-normalizer<4,>=2 in /srv/conda/envs/notebook/lib/python3.11/site-packages (from requests<3.0.0,>=2.13.0->spacy<3.8.0,>=3.7.0->en-core-web-sm==3.7.0) (3.3.0)\n",
      "Requirement already satisfied: idna<4,>=2.5 in /srv/conda/envs/notebook/lib/python3.11/site-packages (from requests<3.0.0,>=2.13.0->spacy<3.8.0,>=3.7.0->en-core-web-sm==3.7.0) (3.4)\n",
      "Requirement already satisfied: urllib3<3,>=1.21.1 in /srv/conda/envs/notebook/lib/python3.11/site-packages (from requests<3.0.0,>=2.13.0->spacy<3.8.0,>=3.7.0->en-core-web-sm==3.7.0) (2.0.6)\n",
      "Requirement already satisfied: certifi>=2017.4.17 in /srv/conda/envs/notebook/lib/python3.11/site-packages (from requests<3.0.0,>=2.13.0->spacy<3.8.0,>=3.7.0->en-core-web-sm==3.7.0) (2023.7.22)\n",
      "Requirement already satisfied: blis<0.8.0,>=0.7.8 in /srv/conda/envs/notebook/lib/python3.11/site-packages (from thinc<8.3.0,>=8.1.8->spacy<3.8.0,>=3.7.0->en-core-web-sm==3.7.0) (0.7.10)\n",
      "Requirement already satisfied: confection<1.0.0,>=0.0.1 in /srv/conda/envs/notebook/lib/python3.11/site-packages (from thinc<8.3.0,>=8.1.8->spacy<3.8.0,>=3.7.0->en-core-web-sm==3.7.0) (0.1.3)\n",
      "Requirement already satisfied: click<9.0.0,>=7.1.1 in /srv/conda/envs/notebook/lib/python3.11/site-packages (from typer<0.10.0,>=0.3.0->spacy<3.8.0,>=3.7.0->en-core-web-sm==3.7.0) (8.1.7)\n",
      "Requirement already satisfied: cloudpathlib<0.17.0,>=0.7.0 in /srv/conda/envs/notebook/lib/python3.11/site-packages (from weasel<0.4.0,>=0.1.0->spacy<3.8.0,>=3.7.0->en-core-web-sm==3.7.0) (0.16.0)\n",
      "Requirement already satisfied: MarkupSafe>=2.0 in /srv/conda/envs/notebook/lib/python3.11/site-packages (from jinja2->spacy<3.8.0,>=3.7.0->en-core-web-sm==3.7.0) (2.1.3)\n",
      "Installing collected packages: en-core-web-sm\n",
      "Successfully installed en-core-web-sm-3.7.0\n",
      "\u001b[38;5;2m✔ Download and installation successful\u001b[0m\n",
      "You can now load the package via spacy.load('en_core_web_sm')\n",
      "Collecting de-core-news-sm==3.7.0\n",
      "  Using cached https://github.com/explosion/spacy-models/releases/download/de_core_news_sm-3.7.0/de_core_news_sm-3.7.0-py3-none-any.whl (14.6 MB)\n",
      "Requirement already satisfied: spacy<3.8.0,>=3.7.0 in /srv/conda/envs/notebook/lib/python3.11/site-packages (from de-core-news-sm==3.7.0) (3.7.2)\n",
      "Requirement already satisfied: spacy-legacy<3.1.0,>=3.0.11 in /srv/conda/envs/notebook/lib/python3.11/site-packages (from spacy<3.8.0,>=3.7.0->de-core-news-sm==3.7.0) (3.0.12)\n",
      "Requirement already satisfied: spacy-loggers<2.0.0,>=1.0.0 in /srv/conda/envs/notebook/lib/python3.11/site-packages (from spacy<3.8.0,>=3.7.0->de-core-news-sm==3.7.0) (1.0.5)\n",
      "Requirement already satisfied: murmurhash<1.1.0,>=0.28.0 in /srv/conda/envs/notebook/lib/python3.11/site-packages (from spacy<3.8.0,>=3.7.0->de-core-news-sm==3.7.0) (1.0.10)\n",
      "Requirement already satisfied: cymem<2.1.0,>=2.0.2 in /srv/conda/envs/notebook/lib/python3.11/site-packages (from spacy<3.8.0,>=3.7.0->de-core-news-sm==3.7.0) (2.0.8)\n",
      "Requirement already satisfied: preshed<3.1.0,>=3.0.2 in /srv/conda/envs/notebook/lib/python3.11/site-packages (from spacy<3.8.0,>=3.7.0->de-core-news-sm==3.7.0) (3.0.9)\n",
      "Requirement already satisfied: thinc<8.3.0,>=8.1.8 in /srv/conda/envs/notebook/lib/python3.11/site-packages (from spacy<3.8.0,>=3.7.0->de-core-news-sm==3.7.0) (8.2.1)\n",
      "Requirement already satisfied: wasabi<1.2.0,>=0.9.1 in /srv/conda/envs/notebook/lib/python3.11/site-packages (from spacy<3.8.0,>=3.7.0->de-core-news-sm==3.7.0) (1.1.2)\n",
      "Requirement already satisfied: srsly<3.0.0,>=2.4.3 in /srv/conda/envs/notebook/lib/python3.11/site-packages (from spacy<3.8.0,>=3.7.0->de-core-news-sm==3.7.0) (2.4.8)\n",
      "Requirement already satisfied: catalogue<2.1.0,>=2.0.6 in /srv/conda/envs/notebook/lib/python3.11/site-packages (from spacy<3.8.0,>=3.7.0->de-core-news-sm==3.7.0) (2.0.10)\n",
      "Requirement already satisfied: weasel<0.4.0,>=0.1.0 in /srv/conda/envs/notebook/lib/python3.11/site-packages (from spacy<3.8.0,>=3.7.0->de-core-news-sm==3.7.0) (0.3.4)\n",
      "Requirement already satisfied: typer<0.10.0,>=0.3.0 in /srv/conda/envs/notebook/lib/python3.11/site-packages (from spacy<3.8.0,>=3.7.0->de-core-news-sm==3.7.0) (0.9.0)\n",
      "Requirement already satisfied: smart-open<7.0.0,>=5.2.1 in /srv/conda/envs/notebook/lib/python3.11/site-packages (from spacy<3.8.0,>=3.7.0->de-core-news-sm==3.7.0) (6.4.0)\n",
      "Requirement already satisfied: tqdm<5.0.0,>=4.38.0 in /srv/conda/envs/notebook/lib/python3.11/site-packages (from spacy<3.8.0,>=3.7.0->de-core-news-sm==3.7.0) (4.66.1)\n",
      "Requirement already satisfied: requests<3.0.0,>=2.13.0 in /srv/conda/envs/notebook/lib/python3.11/site-packages (from spacy<3.8.0,>=3.7.0->de-core-news-sm==3.7.0) (2.31.0)\n",
      "Requirement already satisfied: pydantic!=1.8,!=1.8.1,<3.0.0,>=1.7.4 in /srv/conda/envs/notebook/lib/python3.11/site-packages (from spacy<3.8.0,>=3.7.0->de-core-news-sm==3.7.0) (2.4.2)\n",
      "Requirement already satisfied: jinja2 in /srv/conda/envs/notebook/lib/python3.11/site-packages (from spacy<3.8.0,>=3.7.0->de-core-news-sm==3.7.0) (3.1.2)\n",
      "Requirement already satisfied: setuptools in /srv/conda/envs/notebook/lib/python3.11/site-packages (from spacy<3.8.0,>=3.7.0->de-core-news-sm==3.7.0) (68.2.2)\n",
      "Requirement already satisfied: packaging>=20.0 in /srv/conda/envs/notebook/lib/python3.11/site-packages (from spacy<3.8.0,>=3.7.0->de-core-news-sm==3.7.0) (23.2)\n",
      "Requirement already satisfied: langcodes<4.0.0,>=3.2.0 in /srv/conda/envs/notebook/lib/python3.11/site-packages (from spacy<3.8.0,>=3.7.0->de-core-news-sm==3.7.0) (3.3.0)\n",
      "Requirement already satisfied: numpy>=1.19.0 in /srv/conda/envs/notebook/lib/python3.11/site-packages (from spacy<3.8.0,>=3.7.0->de-core-news-sm==3.7.0) (1.26.0)\n",
      "Requirement already satisfied: annotated-types>=0.4.0 in /srv/conda/envs/notebook/lib/python3.11/site-packages (from pydantic!=1.8,!=1.8.1,<3.0.0,>=1.7.4->spacy<3.8.0,>=3.7.0->de-core-news-sm==3.7.0) (0.6.0)\n",
      "Requirement already satisfied: pydantic-core==2.10.1 in /srv/conda/envs/notebook/lib/python3.11/site-packages (from pydantic!=1.8,!=1.8.1,<3.0.0,>=1.7.4->spacy<3.8.0,>=3.7.0->de-core-news-sm==3.7.0) (2.10.1)\n",
      "Requirement already satisfied: typing-extensions>=4.6.1 in /srv/conda/envs/notebook/lib/python3.11/site-packages (from pydantic!=1.8,!=1.8.1,<3.0.0,>=1.7.4->spacy<3.8.0,>=3.7.0->de-core-news-sm==3.7.0) (4.8.0)\n",
      "Requirement already satisfied: charset-normalizer<4,>=2 in /srv/conda/envs/notebook/lib/python3.11/site-packages (from requests<3.0.0,>=2.13.0->spacy<3.8.0,>=3.7.0->de-core-news-sm==3.7.0) (3.3.0)\n",
      "Requirement already satisfied: idna<4,>=2.5 in /srv/conda/envs/notebook/lib/python3.11/site-packages (from requests<3.0.0,>=2.13.0->spacy<3.8.0,>=3.7.0->de-core-news-sm==3.7.0) (3.4)\n",
      "Requirement already satisfied: urllib3<3,>=1.21.1 in /srv/conda/envs/notebook/lib/python3.11/site-packages (from requests<3.0.0,>=2.13.0->spacy<3.8.0,>=3.7.0->de-core-news-sm==3.7.0) (2.0.6)\n",
      "Requirement already satisfied: certifi>=2017.4.17 in /srv/conda/envs/notebook/lib/python3.11/site-packages (from requests<3.0.0,>=2.13.0->spacy<3.8.0,>=3.7.0->de-core-news-sm==3.7.0) (2023.7.22)\n",
      "Requirement already satisfied: blis<0.8.0,>=0.7.8 in /srv/conda/envs/notebook/lib/python3.11/site-packages (from thinc<8.3.0,>=8.1.8->spacy<3.8.0,>=3.7.0->de-core-news-sm==3.7.0) (0.7.10)\n",
      "Requirement already satisfied: confection<1.0.0,>=0.0.1 in /srv/conda/envs/notebook/lib/python3.11/site-packages (from thinc<8.3.0,>=8.1.8->spacy<3.8.0,>=3.7.0->de-core-news-sm==3.7.0) (0.1.3)\n",
      "Requirement already satisfied: click<9.0.0,>=7.1.1 in /srv/conda/envs/notebook/lib/python3.11/site-packages (from typer<0.10.0,>=0.3.0->spacy<3.8.0,>=3.7.0->de-core-news-sm==3.7.0) (8.1.7)\n",
      "Requirement already satisfied: cloudpathlib<0.17.0,>=0.7.0 in /srv/conda/envs/notebook/lib/python3.11/site-packages (from weasel<0.4.0,>=0.1.0->spacy<3.8.0,>=3.7.0->de-core-news-sm==3.7.0) (0.16.0)\n",
      "Requirement already satisfied: MarkupSafe>=2.0 in /srv/conda/envs/notebook/lib/python3.11/site-packages (from jinja2->spacy<3.8.0,>=3.7.0->de-core-news-sm==3.7.0) (2.1.3)\n",
      "\u001b[38;5;2m✔ Download and installation successful\u001b[0m\n",
      "You can now load the package via spacy.load('de_core_news_sm')\n"
     ]
    }
   ],
   "source": [
    "# Zugriff auf Terminal, Language models in Umgebung runterladen\n",
    "%run -m spacy download en_core_web_sm\n",
    "%run -m spacy download de_core_news_sm"
   ]
  },
  {
   "cell_type": "code",
   "execution_count": 1,
   "id": "e51b63f2-5ecf-435e-983b-dc88dd302e54",
   "metadata": {
    "tags": []
   },
   "outputs": [],
   "source": [
    "#test-pdfs\n",
    "protokoll_file = (r\"Sitzung Thalmann_26.6.2023_beispiel.pdf\")\n",
    "artikel_file = (r\"fables.pdf\")\n",
    "philo_file = (r\"scotus.pdf\")\n",
    "reise_file = (r\"reise.pdf\")"
   ]
  },
  {
   "cell_type": "code",
   "execution_count": 5,
   "id": "ae91833a-6cc1-44a3-9449-2aed84321858",
   "metadata": {},
   "outputs": [],
   "source": [
    "def read_pdf(file_path): \n",
    "    # PDF öffnen und den Text extrahieren\n",
    "    with open(file_path, 'rb') as file:\n",
    "        pdf_reader = PyPDF2.PdfReader(file)\n",
    "        text = ''\n",
    "        for page in pdf_reader.pages:\n",
    "            text += page.extract_text()\n",
    "    return text"
   ]
  },
  {
   "cell_type": "code",
   "execution_count": 6,
   "id": "14309f21-fddb-46ea-a52c-c34514dafc86",
   "metadata": {},
   "outputs": [
    {
     "name": "stdout",
     "output_type": "stream",
     "text": [
      "Apple Apple PROPN NNP nsubj Xxxxx True False\n",
      "is be AUX VBZ aux xx True True\n",
      "looking look VERB VBG ROOT xxxx True False\n",
      "at at ADP IN prep xx True True\n",
      "buying buy VERB VBG pcomp xxxx True False\n",
      "U.K. U.K. PROPN NNP dobj X.X. False False\n",
      "startup startup NOUN NN dep xxxx True False\n",
      "for for ADP IN prep xxx True True\n",
      "$ $ SYM $ quantmod $ False False\n",
      "1 1 NUM CD compound d False False\n",
      "billion billion NUM CD pobj xxxx True False\n"
     ]
    }
   ],
   "source": [
    "nlp_en = spacy.load(\"en_core_web_sm\")\n",
    "doc = nlp_en(\"Apple is looking at buying U.K. startup for $1 billion\")\n",
    "\n",
    "for token in doc:\n",
    "    print(token.text, token.lemma_, token.pos_, token.tag_, token.dep_,\n",
    "            token.shape_, token.is_alpha, token.is_stop)"
   ]
  },
  {
   "cell_type": "code",
   "execution_count": 7,
   "id": "31ec074d-295e-44c3-a605-2952e7f292b1",
   "metadata": {},
   "outputs": [
    {
     "name": "stdout",
     "output_type": "stream",
     "text": [
      "Apple 0 5 ORG\n",
      "U.K. 27 31 GPE\n",
      "$1 billion 44 54 MONEY\n"
     ]
    }
   ],
   "source": [
    "for ent in doc.ents:\n",
    "    print(ent.text, ent.start_char, ent.end_char, ent.label_)"
   ]
  },
  {
   "cell_type": "code",
   "execution_count": 8,
   "id": "213b626f-15d9-4e3f-9a6b-80d6e12d2af3",
   "metadata": {},
   "outputs": [],
   "source": [
    "philo_text = read_pdf(philo_file)"
   ]
  },
  {
   "cell_type": "code",
   "execution_count": 9,
   "id": "e78478ff-c710-458b-b25d-aef595ce9275",
   "metadata": {},
   "outputs": [],
   "source": [
    "philo_doc = nlp_en(philo_text)"
   ]
  },
  {
   "cell_type": "code",
   "execution_count": 55,
   "id": "edda8cd3-6ec4-4bd7-85c5-c9ae062f1235",
   "metadata": {},
   "outputs": [
    {
     "name": "stdout",
     "output_type": "stream",
     "text": [
      "{'eadem', 'Context', 'NC', 'Metaphysics', 'concipitur', 'philosophica', 'York', '998b22–27', 'Solchen', 'malis', 'Igitur', 'Donati', 'Wolter', 'Primus', 'City', 'Marrone', 'Thomas', 'quae', 'Amsterdam', 'Metaphysik', 'New', 'Venice', 'Armand', 'Notabilia', 'Andersen', 'DV', 'fundamenta', 'Rome', 'Vatican', 'the', 'Dumont', 'IV', 'Scoto', 'Paris', 'Porphyrii', 'of', 'Metaphysicae', 'nominetur', 'St.', 'Las', 'Turin', 'Aertsen', 'Leibniz', 'Ashworth', 'pp', 'Les', 'SE', 'Gegenstand', 'Maurer', 'Spain', 'Librum', 'essendo', 'Bonaventure', 'Aristotle', '.', 'Cross', 'Berlin', 'Vegas', 'Cat', 'Forlivesi', 'Cajetan', 'Philosophica', ',', 'Metaphor', 'Scotus', 'Marietti', 'Duns', 'analogia', 'Smith', 'Hochschild'}\n"
     ]
    }
   ],
   "source": [
    "places = set()\n",
    "for token in philo_doc:\n",
    "        if token.ent_type_ in [\"GPE\"] :\n",
    "            places.add(token.text)\n",
    "print(places)"
   ]
  },
  {
   "cell_type": "code",
   "execution_count": 11,
   "id": "841dd8e9-e68c-4425-b6af-1cf2fe70668f",
   "metadata": {},
   "outputs": [],
   "source": [
    "nlp_de = spacy.load(\"de_core_news_sm\")"
   ]
  },
  {
   "cell_type": "code",
   "execution_count": 15,
   "id": "1a19b8b4-5fd4-46bf-8e5c-6db7a2f5f421",
   "metadata": {},
   "outputs": [],
   "source": [
    "reise_text = read_pdf(reise_file)"
   ]
  },
  {
   "cell_type": "code",
   "execution_count": 35,
   "id": "af7b48ff-efd5-4dd1-9226-435828768bb8",
   "metadata": {},
   "outputs": [],
   "source": [
    "reise_doc = nlp_de(reise_text)\n",
    "test_doc = nlp_de(\"ipsum larum Löffelstiel, wer nicht fragt der ist nicht viel. Er geht auch nicht nach Rom, nach Paris oder auf den Mount Everest\")"
   ]
  },
  {
   "cell_type": "code",
   "execution_count": 56,
   "id": "af26b00c-f5d5-4576-ae58-05296422f7ef",
   "metadata": {},
   "outputs": [
    {
     "name": "stdout",
     "output_type": "stream",
     "text": [
      "{'Mount', 'Rom', 'Paris', 'Everest'}\n"
     ]
    }
   ],
   "source": [
    "places = set()\n",
    "for token in test_doc:\n",
    "        if token.ent_type_ in [\"GPE\", \"LOC\"] :\n",
    "            places.add(token.text)\n",
    "print(places)"
   ]
  },
  {
   "cell_type": "code",
   "execution_count": 58,
   "id": "0ffe5a8b-4756-4df2-a53f-dd6d733de81d",
   "metadata": {},
   "outputs": [
    {
     "name": "stdout",
     "output_type": "stream",
     "text": [
      "{'Windes', 'München', 'Herzogtum', 'hohen', ' ', 'Zusam', 'Quinaults', 'Czaar', 'Washington', 'van', 'en', 'King', '2', 'Bayern', 'nirgens', 'Kloveniersburgwal', 'Orchestergräben', 'Kurfürstentümern', 'ondé', 'Damaskus', 'hinleget', 'Withall60', 'Pons', '[', 'di', 'continu=', 'Hannover', 'Histoire', 'Bridge', 'England', 'Antwerpener', 'Sak', 'beÿ', 'nd', 'Ijsselmeeres', 'au', 'XVIIe', 'Whitehall', 'Onyeka', 'Athlone', 'Portugal', 'Sabbath', 'holländer', 'Schiffer', 'Fort', 'Agenten31', 'officiers', 'läger', 'betten', 'Soho', 'holland', 'auff', 'Allard', 'Niederlanden', 'Litauen', 'Stadt', 'Ukraine', 'l', 'Hausgebrauch', 'Monmouths', 'gantzen', 'Kanal', 'Russland', 'Vornem', 'degelin', 'Great', 'actum', '3', 'Harwich', 'Schrecken', 'Stadtmauer', 'Europa', 'Reiches', 'Carel', 'haüser', 'Bulgarien', 'Schmiden', 'gespielet', 'Interregnum', 'Frisur', 'guide', 'o=', 'Gürtel', 'Martone', 'ß', 'Cathedral', 'e', 'Southwark', 'Dictionnaire', 'Samson', 'Herrschersitz', 'Anglikanische', 'D.C.', '-Latein', 'dises', 'Fire', 'kurtz', 'Häuserzeilen', 'Strassen', 'Königliche', 'Römern', 'n', 'Castell', 'St', 'Schlosstheater', 'wand', 'Zaun', 'von', 'Nubia', 'Birmingham', 'Sturm', 'Cembali', 'Welche', 'den', 'Innenstadt', 'Auff', 'Armide', 'Mitte', 'Banqueting', 'galeres', 'auß', 'Lane', 'ku', 'Brielle', 'Londres', 'peltzröken', '4', 'Nombr', 'hauß', 'Kellern', 'Court', 'Mägden', 'dan', 'Fort107', 'inwendiger', 'prisen', 'ei', 'Spalten', 'Vastitas', 'Unesco', 'Grossbritannien', 'Wroxeter', 'Den', 'Fontange', 'Liebrecht', 'bekom', 'Square', 'darun=', 'rings', 'camelot', 'Bd.', 'Bern', '1.', 'Hoek', 'Kauff=', 'Engelland', 'Engel=', 'Weltkulturerbe', 'Cromwellschen', 'Théatre', 'Paris', 'Londons', 'Frankreich', 'Zahl', 'Saülen', 'Altstadt', 'Gravesend', 'u', 'Colchester', 'kon', 'Niederlande', 'abge=', 'Guinée', 'Roterdam104', 'Spal', 'wir', 'Londen45', 'Capitain', 'Amsterdam', 'continuirlich', 'abends', 'mahlereÿen', 'Stadtmauern', 'weibs=', 'castells', 'Pauls', 'Esquadre', 'Palast', 'wol', 'Rumänien', 'Kontrapunktes', 'Schweiz', 'Sachsen', 'Finsbury', 'welches', 'canal', 'Zagens', 'Copht', 'köstlichste', 'Guineas', 'Kassel', 'Generalbasses', 'Lufft', 'Académie', 'Little', 'Drottningholm', 'Throgmortonstreet', 'Landgrafen', 'Quelques', 'L’', 'Kauffleüt', 'Zeit', 'Steuergründen', 'Irlands', 'Seculi', 'Ka', 'Apparitiones', 'durchs', 'Schalmeien', 'begon', 'de', 'Libretto', 'vm', 'Amstel', 'Junii', 'Englischer', 'projet', 'wissen', 'Rheins', 'Halvermannbrug', 'S.', 'gewölb', 'Dover', 'Rijksmuseum', 'specie', 'sturm', 'quand', 'Kirche', 'Königsbergs', 'Savoyen', 'da', 'Europas', ' \\n \\n', 'Paquebots', 'Le', 'pretention', 'of', 'Antwerpen', 'Osmanen', 'Kupferstich', 'm]=', 'Moorfield', 'Hessen-', 'Bruxelles', '-paquebott96', 'Londen', 'lignes', 'Englands', 'Schweden', 'Soldtruppen', '12', 'volens', 'Julii', 'Kurpfalz', 'Enge', 'Maas', 'Essen', 'La', 'römischer', 'Reich', 'Wasseranschlüsse', 'Westminster', 'Fährschiffe', 'Amsterda', 'Kupferstichen', 'Neuzeit', 'offtermal', 'gleichfals', 'Pattens', 'Zürich', 'Zedulin', 'Basel', 'Fraçoise', 'du', 'wänd', 'land', 'Français', 'Barockoboen', 'Spanien', 'Maasdelta', 'Nachtwache', 'Bankenviertel', 'Schloss', 'Pounds', 'Berner', 'Am=', 'Lon', 'handelnd', 'française', 'Brücke', 'le', 'Themse', 'Eisenbahn', 'disem', 'st', 'gebätt', 'Françoise', 'Oboen', 'Städtebelagerungen', ' \\n', 'brösam=', 'Kaffeehäusern', 'Landes', 'Copthall', 'Rei', '’', 'Namur', 'Niederrhein', 'Armyde28', '14', 'lebensgrösse', 'Unvermeidliche', 'Deutsch', 'spanischen', 'Shrewsbury', 'London', 'St.', 'Europoort', 'Cassel18', 'Telford', 'Würtenberg16', 'James', 'Kaf', 'end', 'Kontingente', 'Atlantik', 'art=', 'Nordseeküste', 'Monmouth', 'Theorben', 'Armenvierteln', 'Hafen', '’s', 'Rotterdam', 'öffters', '1', 'Admiralitet=', 'Haube', 'vermutl', 'v.', 'Londoner', 'à', 'Brandenburg', 'Weather', 'Haag', 'vile', 'Brüssel', 'House', '\\n', 'City', 'Inkognito', '142.', 'Serbien', 'https://www.youtube.com/watch?v=akDLjrjJiOQ', 'Statt', 'jemands', 'Directory', 'muth', 'Schützenhaus', 'nidrig', 'Idiotikon', 'Mesopotamien', 'Groot', 'Birs', 'Elysion', '8', 'Giles', 'dienstmägd', 'füssen', 'En=', 'S', 'Kirch', 'G', 'hinau', 'Südwestdeutschland', 'Brügge', 'Beÿern29', 'Armen', 'Abbey', 'Englische', 'Holland', 'Kommando', 'Colchester43', 'Dunkerque', 'Nordsee', 'cajuten', 'Pudding', 'lebens=', 'Abr', 'diser', 'Drehleiern', 'Westend', 'Ao', 'südlichen', 'Römer', 'montiret', 'Frühen', 'Court61', 'nachsprach', 'sam', 'Versailles', 'jeglichem', 'Account'}\n"
     ]
    }
   ],
   "source": [
    "places = set()\n",
    "for token in reise_doc:\n",
    "        if token.ent_type_ in [\"GPE\", \"WORK_OF_ART\", \"EVENT\", \"LOC\"]: # \"LOC\", \"ORG\" findet zu viel. Tags unter https://spacy.io/api/token\n",
    "            places.add(token.text)\n",
    "print(places)"
   ]
  },
  {
   "cell_type": "code",
   "execution_count": null,
   "id": "f0a8cac1-6f72-44f3-99ae-2b57aceec7ae",
   "metadata": {},
   "outputs": [],
   "source": []
  },
  {
   "cell_type": "code",
   "execution_count": 78,
   "id": "fbd19e04-659d-421c-a370-b65de32c55f3",
   "metadata": {},
   "outputs": [],
   "source": [
    "# Nächstes Beispiel, 19. Jh Buch von e-rara, mitgeliefertes OCR\n",
    "# Erst einmal Textencodings testen\n",
    "with open(\"e-rara-102727.txt\") as file:\n",
    "    rara_text_d = file.read().replace('\\n',' ')\n",
    "with open(\"e-rara-102727.txt\", encoding = \"latin-1\") as file:\n",
    "    rara_text_l = file.read().replace('\\n',' ')\n",
    "with open(\"e-rara-102727.txt\", encoding = \"utf-8\") as file:\n",
    "    rara_text_u = file.read().replace('\\n',' ')\n"
   ]
  },
  {
   "cell_type": "code",
   "execution_count": 81,
   "id": "2e4cc959-0071-424f-ad77-bbd7e325cdcd",
   "metadata": {},
   "outputs": [
    {
     "name": "stdout",
     "output_type": "stream",
     "text": [
      "kn Â«0Ltt8cMi.k: 6L8eÂ«L!^L^'  !er 10. August 1782 mit besonderer RÃ¼cksicht auf die Haltung des Schweizer- Garderegiments von Dr. Ã„ugnst von Goiyenbach, Awcsmem Slaatsschrcibcr der tchwrizechcheÂ» E\n",
      "kn Â«0Ltt8cMi.k: 6L8eÂ«L!^L^'  !er 10. August 1782 mit besonderer RÃ¼cksicht auf die Haltung des Schweizer- Garderegiments von Dr. Ãugnst von Goiyenbach, Awcsmem Slaatsschrcibcr der tchwrizechcheÂ» E\n",
      " «0Ltt8cMi.k: 6L8e«L!^L^'  !er 10. August 1782 mit besonderer Rücksicht auf die Haltung des Schweizer- Garderegiments von Dr. Äugnst von Goiyenbach, Awcsmem Slaatsschrcibcr der tchwrizechche» Eidgmoff\n"
     ]
    }
   ],
   "source": [
    "print(rara_text_d[100:300])\n",
    "print(rara_text_l[100:300])\n",
    "print(rara_text_u[100:300]) #Besser!"
   ]
  },
  {
   "cell_type": "code",
   "execution_count": 82,
   "id": "5f96b5d0-4ece-4e1a-a89a-b5433346c772",
   "metadata": {},
   "outputs": [],
   "source": [
    "rara_doc = nlp_de(rara_text_u)"
   ]
  },
  {
   "cell_type": "code",
   "execution_count": 87,
   "id": "2c55c8be-9949-4d7d-b8b5-e983d064da5f",
   "metadata": {},
   "outputs": [
    {
     "name": "stdout",
     "output_type": "stream",
     "text": [
      "Tuilerien\n",
      "\n"
     ]
    }
   ],
   "source": [
    "#print(rara_doc[20:100]) # OCR ist schlecht\n",
    "\n",
    "print(rara_doc[259]) # \"Tuilerien\" korrekt erkannt\n",
    "print(rara_doc[259].ent_type_) # Aber type ist trotzdem leer, die .ent scheint nicht gut zu funktionieren"
   ]
  },
  {
   "cell_type": "code",
   "execution_count": 88,
   "id": "0a13006e-1ce0-4f1f-af0c-3f0a42b109b9",
   "metadata": {},
   "outputs": [],
   "source": [
    "cities_and_people = set()\n",
    "for token in rara_doc:\n",
    "        if token.ent_type_ in [\"GPE\", \"PERSON\", \"LOC\"] :\n",
    "            places.add(token.text)"
   ]
  },
  {
   "cell_type": "code",
   "execution_count": 89,
   "id": "bc77565e-c419-4883-a0c3-12b2829f355a",
   "metadata": {},
   "outputs": [
    {
     "name": "stdout",
     "output_type": "stream",
     "text": [
      "0\n"
     ]
    }
   ],
   "source": [
    "print(len(cities_and_people))"
   ]
  },
  {
   "cell_type": "code",
   "execution_count": null,
   "id": "12907a0a-ad11-431a-a8ea-bb598e6a9c54",
   "metadata": {},
   "outputs": [],
   "source": []
  }
 ],
 "metadata": {
  "kernelspec": {
   "display_name": "Python 3 (ipykernel)",
   "language": "python",
   "name": "python3"
  },
  "language_info": {
   "codemirror_mode": {
    "name": "ipython",
    "version": 3
   },
   "file_extension": ".py",
   "mimetype": "text/x-python",
   "name": "python",
   "nbconvert_exporter": "python",
   "pygments_lexer": "ipython3",
   "version": "3.11.6"
  }
 },
 "nbformat": 4,
 "nbformat_minor": 5
}
